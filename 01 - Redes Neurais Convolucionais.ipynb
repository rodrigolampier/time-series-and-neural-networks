{
 "cells": [
  {
   "cell_type": "markdown",
   "metadata": {},
   "source": [
    "## 01 - Redes Neurais Convolucionais"
   ]
  },
  {
   "cell_type": "code",
   "execution_count": null,
   "metadata": {},
   "outputs": [],
   "source": [
    "import tensorflow as tf\n",
    "#import tensorflow.keras as tfk\n",
    "import pandas as pd\n",
    "import numpy as np\n",
    "%matplotlib inline"
   ]
  },
  {
   "cell_type": "code",
   "execution_count": null,
   "metadata": {},
   "outputs": [],
   "source": [
    "data = pd.read_csv(\"data-raw/2020-Feb.csv\")\n",
    "data['event_time'] = pd.to_datetime(data['event_time'], format='%Y-%m-%d %H:%M:%S UTC')\n",
    "data.head(2)"
   ]
  },
  {
   "cell_type": "code",
   "execution_count": null,
   "metadata": {},
   "outputs": [],
   "source": [
    "data.shape"
   ]
  },
  {
   "cell_type": "code",
   "execution_count": null,
   "metadata": {},
   "outputs": [],
   "source": [
    "data['date'] = data['event_time'].dt.round(\"1H\")\n",
    "pur = data[data['event_type'] == 'purchase']\n",
    "\n",
    "g = pur.groupby([\"date\"], as_index=False)['price'].sum()\n",
    "g = g.rename(columns={\"price\": \"sales_value\"})\n",
    "\n",
    "g.head()"
   ]
  },
  {
   "cell_type": "code",
   "execution_count": null,
   "metadata": {},
   "outputs": [],
   "source": [
    "g.plot(x='date', y='sales_value', figsize=(15,10))"
   ]
  },
  {
   "cell_type": "code",
   "execution_count": null,
   "metadata": {},
   "outputs": [],
   "source": [
    "g.to_csv('data-processed/ts_hr_feb_2020.csv', index=False, header=True)"
   ]
  },
  {
   "cell_type": "code",
   "execution_count": null,
   "metadata": {},
   "outputs": [],
   "source": [
    "data = pd.read_csv(\"data-processed/ts_hr_feb_2020.csv\", parse_dates=['date'])\n",
    "data.head()"
   ]
  },
  {
   "cell_type": "code",
   "execution_count": null,
   "metadata": {},
   "outputs": [],
   "source": [
    "?tf.keras.layers.Conv1D"
   ]
  },
  {
   "cell_type": "code",
   "execution_count": null,
   "metadata": {},
   "outputs": [],
   "source": [
    "numerical_i = tf.keras.layers.Input((24, 1))\n",
    "numerical = tf.keras.layers.Conv1D(10, 3)(numerical_i)\n",
    "numerical = tf.keras.layers.Flatten()(numerical)\n",
    "dense = tf.keras.layers.Dense(200, 'relu')(numerical)\n",
    "out = tf.keras.layers.Dense(24, 'relu')(dense)\n",
    "\n",
    "mdl = tf.keras.Model(numerical_i, out)\n",
    "mdl.compile('adam', 'mae')\n",
    "mdl.summary()"
   ]
  },
  {
   "cell_type": "code",
   "execution_count": null,
   "metadata": {},
   "outputs": [],
   "source": [
    "last_sunday = pd.to_datetime(\"2020-02-23\")\n",
    "train = data[data['date'] < last_sunday]\n",
    "val = data[data['date'] >= last_sunday]"
   ]
  },
  {
   "cell_type": "code",
   "execution_count": null,
   "metadata": {},
   "outputs": [],
   "source": [
    "l = 24\n",
    "h = 24\n",
    "\n",
    "X = []\n",
    "Y = []\n",
    "for i in range(l,train.shape[0]-h):\n",
    "    f = train.iloc[i-l:i]['sales_value'].values #hoje\n",
    "    y = train.iloc[i:i+h]['sales_value'].values # 1 dia depois\n",
    "    \n",
    "    X.append(f)\n",
    "    Y.append(y)\n",
    "\n",
    "X = np.array(X)\n",
    "Y = np.array(Y)\n",
    "\n",
    "X = np.expand_dims(X, -1)\n",
    "#Y = np.expand_dims(Y, -1)"
   ]
  },
  {
   "cell_type": "code",
   "execution_count": null,
   "metadata": {},
   "outputs": [],
   "source": [
    "mdl.fit(X, Y, batch_size=1, shuffle=True, epochs=5)"
   ]
  },
  {
   "cell_type": "code",
   "execution_count": null,
   "metadata": {},
   "outputs": [],
   "source": [
    "Xv = []\n",
    "Yv = []\n",
    "for i in range(l,val.shape[0]-h):\n",
    "    f = val.iloc[i-l:i]['sales_value'].values # hoje\n",
    "    y = val.iloc[i:i+h]['sales_value'].values # 1 dia depois\n",
    "    \n",
    "    Xv.append(f)\n",
    "    Yv.append(y)\n",
    "\n",
    "Xv = np.array(Xv)\n",
    "Yv = np.array(Yv)\n",
    "\n",
    "Xv = np.expand_dims(Xv, -1)\n",
    "#Y = np.expand_dims(Y, -1)"
   ]
  },
  {
   "cell_type": "code",
   "execution_count": null,
   "metadata": {},
   "outputs": [],
   "source": [
    "p = mdl.predict(Xv)"
   ]
  },
  {
   "cell_type": "code",
   "execution_count": null,
   "metadata": {},
   "outputs": [],
   "source": [
    "from sklearn.metrics import mean_absolute_error\n",
    "mean_absolute_error(Yv, p)"
   ]
  },
  {
   "cell_type": "code",
   "execution_count": null,
   "metadata": {},
   "outputs": [],
   "source": [
    "p_base = np.ones(Yv.shape)*np.median(Y, axis=0)"
   ]
  },
  {
   "cell_type": "code",
   "execution_count": null,
   "metadata": {},
   "outputs": [],
   "source": [
    "mean_absolute_error(Yv, p_base)"
   ]
  },
  {
   "cell_type": "code",
   "execution_count": null,
   "metadata": {},
   "outputs": [],
   "source": [
    "pd.DataFrame({'p': p[71,:], 'y': Yv[71,:]}).plot(figsize=(12,7))\n",
    "plt.show()"
   ]
  },
  {
   "cell_type": "markdown",
   "metadata": {},
   "source": [
    "## Fim"
   ]
  }
 ],
 "metadata": {
  "kernelspec": {
   "display_name": "Python 3",
   "language": "python",
   "name": "python3"
  },
  "language_info": {
   "codemirror_mode": {
    "name": "ipython",
    "version": 3
   },
   "file_extension": ".py",
   "mimetype": "text/x-python",
   "name": "python",
   "nbconvert_exporter": "python",
   "pygments_lexer": "ipython3",
   "version": "3.8.5"
  }
 },
 "nbformat": 4,
 "nbformat_minor": 4
}
