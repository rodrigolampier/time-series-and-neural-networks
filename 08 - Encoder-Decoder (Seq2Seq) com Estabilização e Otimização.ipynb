{
 "cells": [
  {
   "cell_type": "markdown",
   "metadata": {},
   "source": [
    "# 08 - Encoder-Decoder (Seq2Seq) com Estabilização e Otimização"
   ]
  },
  {
   "cell_type": "code",
   "execution_count": null,
   "metadata": {},
   "outputs": [],
   "source": [
    "import pandas as pd\n",
    "import numpy as np\n",
    "%matplotlib inline\n",
    "\n",
    "import torch\n",
    "import torch.nn as nn\n",
    "from torch import optim\n",
    "import torch.nn.functional as F\n",
    "from sklearn.metrics import mean_absolute_error\n",
    "\n",
    "#https://www.kaggle.com/c/web-traffic-time-series-forecasting/discussion/43795s"
   ]
  },
  {
   "cell_type": "code",
   "execution_count": null,
   "metadata": {},
   "outputs": [],
   "source": [
    "data = pd.read_csv('ts_hr_feb_2020.csv.zip', parse_dates=['date'])\n",
    "\n",
    "data['hour'] = data['date'].dt.hour\n",
    "\n",
    "last_sunday = pd.to_datetime(\"2020-02-23\")\n",
    "\n",
    "train = data[data['date'] < last_sunday]\n",
    "val = data[data['date'] >= last_sunday]"
   ]
  },
  {
   "cell_type": "code",
   "execution_count": null,
   "metadata": {},
   "outputs": [],
   "source": [
    "def prep_seqs(df, l=24, h=24):\n",
    "    \n",
    "    X = []\n",
    "    Y = []\n",
    "    for i in range(l,df.shape[0]-h):\n",
    "        f = df.iloc[i-l:i]['sales_value'] #hoje\n",
    "        y = df.iloc[i:i+h]['sales_value'] # 1 dia depois\n",
    "\n",
    "        X.append(f.values)\n",
    "        Y.append(y.values)\n",
    "\n",
    "    X = np.array(X)\n",
    "    Y = np.array(Y)\n",
    "\n",
    "    X = np.expand_dims(X, -1)\n",
    "    X = np.swapaxes(X, 0,1)\n",
    "    \n",
    "    return torch.from_numpy(X).float(), torch.from_numpy(Y).float()"
   ]
  },
  {
   "cell_type": "code",
   "execution_count": null,
   "metadata": {},
   "outputs": [],
   "source": [
    "X, Y = prep_seqs(train)\n",
    "Xt, Yt = prep_seqs(val)\n",
    "\n",
    "mean_train = X.mean(1, keepdims=True)\n",
    "std_train = X.std(1,  unbiased=False, keepdims=True)\n",
    "\n",
    "meanY_train = Y.mean(0, keepdims=True)\n",
    "stdY_train = Y.std(0, unbiased=False, keepdims=True)\n",
    "\n",
    "X -= mean_train\n",
    "X /= std_train\n",
    "\n",
    "Xt -= mean_train\n",
    "Xt /= std_train\n",
    "\n",
    "Y -= meanY_train\n",
    "Y /= stdY_train\n",
    "\n",
    "X = X.cuda()\n",
    "Y = Y.cuda()\n",
    "Xt = Xt.cuda()\n",
    "\n",
    "# cuda = torch.device('cuda') \n",
    "#Y.to(cuda)"
   ]
  },
  {
   "cell_type": "code",
   "execution_count": null,
   "metadata": {},
   "outputs": [],
   "source": [
    "class EncoderDecoderRNN(nn.Module):\n",
    "    \n",
    "    def __init__(self, hidden_size):\n",
    "        super(EncoderDecoderRNN, self).__init__()\n",
    "        self.hidden_size = hidden_size\n",
    "        self.encoder = nn.GRU(1, self.hidden_size)\n",
    "        self.decoder = nn.GRU(1, self.hidden_size)\n",
    "        self.out = nn.Linear(self.hidden_size, 1)\n",
    "        \n",
    "    def forward(self, input):\n",
    "        \n",
    "        output_encoder, _ = self.encoder(input)\n",
    "        hidden_encoder = output_encoder[-1:, :, :].cuda()\n",
    "        \n",
    "        last_known_value = input[-1:,:,:].cuda()\n",
    "        #print(last_known_value.shape)\n",
    "        last_hidden = hidden_encoder\n",
    "        #print(last_hidden.shape)\n",
    "        \n",
    "        outs = []\n",
    "        for step in range(24):\n",
    "            output_decoder, _ = self.decoder(last_known_value, last_hidden)\n",
    "            \n",
    "            last_hidden = output_decoder[-1:, :, :]\n",
    "            p = self.out(last_hidden)\n",
    "            \n",
    "            last_known_value = p\n",
    "            outs.append(p)\n",
    "            \n",
    "        #print(outs[0].shape, outs[1].shape)\n",
    "            \n",
    "        outs = torch.cat(outs).squeeze()\n",
    "        outs = torch.transpose(outs, 0, 1)\n",
    "        \n",
    "        return outs"
   ]
  },
  {
   "cell_type": "code",
   "execution_count": null,
   "metadata": {},
   "outputs": [],
   "source": [
    "def run_seq2seq(params):\n",
    "    \n",
    "    hidden_size, lr = params\n",
    "    hidden_size = int(hidden_size)\n",
    "    \n",
    "    total_p = np.zeros((Yt.shape[0], Yt.shape[1], 10))\n",
    "\n",
    "    for seed in range(10):\n",
    "        torch.manual_seed(seed)\n",
    "        np.random.seed(seed)\n",
    "\n",
    "        edrnn = EncoderDecoderRNN(hidden_size).cuda()\n",
    "        criterion = nn.L1Loss()\n",
    "        lstm_optimizer = optim.Adam(edrnn.parameters(), lr=lr)\n",
    "\n",
    "        for i in range(100):\n",
    "            edrnn.zero_grad()\n",
    "\n",
    "            o = edrnn(X)\n",
    "            loss = criterion(o, Y)\n",
    "            loss.backward()\n",
    "            lstm_optimizer.step()\n",
    "            #print(loss.item())\n",
    "\n",
    "            p = edrnn(Xt)\n",
    "            p = p.detach().cpu()\n",
    "\n",
    "            p *= stdY_train\n",
    "            p += meanY_train\n",
    "            p = p.numpy().squeeze()\n",
    "\n",
    "        #print(\"Seed = {} - Erro: {}\".format(seed, mean_absolute_error(Yt.numpy(), p)))\n",
    "        total_p[:, :, seed] = p\n",
    "    \n",
    "    e = mean_absolute_error(Yt.numpy(), total_p.mean(axis=-1))\n",
    "    \n",
    "    print(\"\\nhidden_size = {}, lr = {}\".format(*params))\n",
    "    print(\"Ensemble Avg Score = {}\\n\".format(e))\n",
    "    \n",
    "    return e"
   ]
  },
  {
   "cell_type": "code",
   "execution_count": null,
   "metadata": {},
   "outputs": [],
   "source": [
    "from skopt import gp_minimize\n",
    "\n",
    "space = [(10, 300),\n",
    "         (1e-4, 1e-1, 'log-uniform')]\n",
    "\n",
    "res = gp_minimize(run_seq2seq, space, random_state=4, verbose=1, n_calls=11)"
   ]
  },
  {
   "cell_type": "code",
   "execution_count": null,
   "metadata": {},
   "outputs": [],
   "source": [
    "# 342 - erro sem tuning LSTM\n",
    "# 324.39008277809006 - menor erro LSTM tunada"
   ]
  },
  {
   "cell_type": "code",
   "execution_count": null,
   "metadata": {},
   "outputs": [],
   "source": [
    "res.x"
   ]
  },
  {
   "cell_type": "markdown",
   "metadata": {},
   "source": [
    "# Fim"
   ]
  }
 ],
 "metadata": {
  "kernelspec": {
   "display_name": "Python 3",
   "language": "python",
   "name": "python3"
  },
  "language_info": {
   "codemirror_mode": {
    "name": "ipython",
    "version": 3
   },
   "file_extension": ".py",
   "mimetype": "text/x-python",
   "name": "python",
   "nbconvert_exporter": "python",
   "pygments_lexer": "ipython3",
   "version": "3.8.5"
  }
 },
 "nbformat": 4,
 "nbformat_minor": 4
}
