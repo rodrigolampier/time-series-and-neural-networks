{
 "cells": [
  {
   "cell_type": "markdown",
   "metadata": {},
   "source": [
    "# 03 - Redes Neurais Recorrentes - LSTM - Previsão a Cada Passo"
   ]
  },
  {
   "cell_type": "code",
   "execution_count": null,
   "metadata": {},
   "outputs": [],
   "source": [
    "import pandas as pd\n",
    "import numpy as np\n",
    "%matplotlib inline\n",
    "\n",
    "import torch\n",
    "import torch.nn as nn\n",
    "from torch import optim\n",
    "import torch.nn.functional as F"
   ]
  },
  {
   "cell_type": "code",
   "execution_count": 3,
   "metadata": {},
   "outputs": [],
   "source": [
    "data = pd.read_csv('data-processed/ts_hr_feb_2020.csv', parse_dates=['date'])\n",
    "\n",
    "data['hour'] = data['date'].dt.hour\n",
    "\n",
    "last_sunday = pd.to_datetime(\"2020-02-23\")\n",
    "train = data[data['date'] < last_sunday]\n",
    "val = data[data['date'] >= last_sunday]"
   ]
  },
  {
   "cell_type": "code",
   "execution_count": 4,
   "metadata": {},
   "outputs": [],
   "source": [
    "def prep_seqs(df, l=24, h=24):\n",
    "    X = []\n",
    "    Y = []\n",
    "    for i in range(l,df.shape[0]-h):\n",
    "        f = df.iloc[i-l:i][['sales_value', 'hour']] #hoje\n",
    "        y = df.iloc[i:i+h]['sales_value'] # 1 dia depois\n",
    "\n",
    "        X.append(f.values)\n",
    "        Y.append(y.values)\n",
    "\n",
    "    X = np.array(X)\n",
    "    Y = np.array(Y)\n",
    "\n",
    "    #X = np.expand_dims(X, -1)\n",
    "    X = np.swapaxes(X, 0,1)\n",
    "    \n",
    "    #Y = np.expand_dims(Y, -1)\n",
    "    #Y = np.swapaxes(Y, 0,2)\n",
    "    return torch.from_numpy(X).float(), torch.from_numpy(Y).float()"
   ]
  },
  {
   "cell_type": "code",
   "execution_count": 5,
   "metadata": {},
   "outputs": [],
   "source": [
    "X, Y = prep_seqs(train)\n",
    "Xt, Yt = prep_seqs(val)\n",
    "\n",
    "mean_train = X.mean(1, keepdims=True)\n",
    "mean_train[:, :, 1] = 0\n",
    "std_train = X.std(1,  unbiased=False, keepdims=True)\n",
    "std_train[:, :, 1] = 1\n",
    "\n",
    "meanY_train = Y.mean(0, keepdims=True)\n",
    "stdY_train = Y.std(0, unbiased=False, keepdims=True)\n",
    "\n",
    "X -= mean_train\n",
    "X /= std_train\n",
    "\n",
    "Xt -= mean_train\n",
    "Xt /= std_train\n",
    "\n",
    "\n",
    "Y -= meanY_train\n",
    "Y /= stdY_train\n"
   ]
  },
  {
   "cell_type": "code",
   "execution_count": 6,
   "metadata": {},
   "outputs": [],
   "source": [
    "class LSTMRNN(nn.Module):\n",
    "    def __init__(self, hidden_size):\n",
    "        super(LSTMRNN, self).__init__()\n",
    "        self.hidden_size = hidden_size\n",
    "        self.hour_emb = nn.Embedding(24, 4)\n",
    "        self.lstm = nn.LSTM(5, self.hidden_size)\n",
    "        self.out = nn.Linear(self.hidden_size, 1)\n",
    "        \n",
    "    def forward(self, input):\n",
    "        #print(\"Inputs\", input.shape)\n",
    "        hour_emb = self.hour_emb(input[:,:,-1].long())\n",
    "        nums = input[:,:,:-1]\n",
    "        \n",
    "        inputs = torch.cat([nums, hour_emb], dim=2)\n",
    "\n",
    "        output, _ = self.lstm(inputs)\n",
    "        #print(\"Output LSTM\", output.shape)\n",
    "        \n",
    "        output = self.out(output) \n",
    "        #print(\"Output do self.out\", output.shape)\n",
    "        output = output.squeeze()\n",
    "        #print(\"Depois do squeeze\", output.shape)\n",
    "        output = torch.transpose(output, 0, 1) \n",
    "        #print(\"Depois do transpose\", output.shape)\n",
    "        return output\n",
    "    "
   ]
  },
  {
   "cell_type": "code",
   "execution_count": 7,
   "metadata": {},
   "outputs": [
    {
     "name": "stdout",
     "output_type": "stream",
     "text": [
      "LSTMRNN(\n",
      "  (hour_emb): Embedding(24, 4)\n",
      "  (lstm): LSTM(5, 100)\n",
      "  (out): Linear(in_features=100, out_features=1, bias=True)\n",
      ")\n"
     ]
    }
   ],
   "source": [
    "seed = 0\n",
    "torch.manual_seed(seed)\n",
    "np.random.seed(seed)\n",
    "\n",
    "lstm = LSTMRNN(100)\n",
    "print(lstm)"
   ]
  },
  {
   "cell_type": "code",
   "execution_count": 8,
   "metadata": {},
   "outputs": [],
   "source": [
    "from sklearn.metrics import mean_absolute_error\n",
    "\n",
    "criterion = nn.L1Loss()\n",
    "lstm_optimizer = optim.Adam(lstm.parameters(), lr=1e-2)"
   ]
  },
  {
   "cell_type": "code",
   "execution_count": 10,
   "metadata": {},
   "outputs": [
    {
     "name": "stdout",
     "output_type": "stream",
     "text": [
      "360.07095\n"
     ]
    }
   ],
   "source": [
    "for i in range(100):\n",
    "    lstm.zero_grad()\n",
    "\n",
    "    o = lstm(X)\n",
    "    loss = criterion(o, Y)\n",
    "    loss.backward()\n",
    "    lstm_optimizer.step()\n",
    "    #print(loss.item())\n",
    "    \n",
    "    \n",
    "    p = lstm(Xt)\n",
    "    p = p.detach()\n",
    "    \n",
    "    p *= stdY_train\n",
    "    p += meanY_train\n",
    "    p = p.numpy().squeeze()\n",
    "    \n",
    "    \n",
    "print(mean_absolute_error(Yt.numpy(), p))"
   ]
  },
  {
   "cell_type": "markdown",
   "metadata": {},
   "source": [
    "# Fim"
   ]
  }
 ],
 "metadata": {
  "kernelspec": {
   "display_name": "Python 3",
   "language": "python",
   "name": "python3"
  },
  "language_info": {
   "codemirror_mode": {
    "name": "ipython",
    "version": 3
   },
   "file_extension": ".py",
   "mimetype": "text/x-python",
   "name": "python",
   "nbconvert_exporter": "python",
   "pygments_lexer": "ipython3",
   "version": "3.8.5"
  }
 },
 "nbformat": 4,
 "nbformat_minor": 4
}
