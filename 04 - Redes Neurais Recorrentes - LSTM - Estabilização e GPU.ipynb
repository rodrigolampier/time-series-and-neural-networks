{
 "cells": [
  {
   "cell_type": "markdown",
   "metadata": {},
   "source": [
    "# 04 - Redes Neurais Recorrentes - LSTM - Estabilização e GPU"
   ]
  },
  {
   "cell_type": "markdown",
   "metadata": {},
   "source": [
    "Vamos estabibilizar as previsões com uso de diversas previsões com seeds diferentes. Após tiramos a média e usamos como resultado. Também adicionamos comandos para execução do modelo em GPU."
   ]
  },
  {
   "cell_type": "code",
   "execution_count": 1,
   "metadata": {},
   "outputs": [],
   "source": [
    "import pandas as pd\n",
    "import numpy as np\n",
    "%matplotlib inline\n",
    "import torch\n",
    "import torch.nn as nn\n",
    "from torch import optim\n",
    "import torch.nn.functional as F\n",
    "from sklearn.metrics import mean_absolute_error"
   ]
  },
  {
   "cell_type": "code",
   "execution_count": 2,
   "metadata": {},
   "outputs": [],
   "source": [
    "data = pd.read_csv('data-processed/ts_hr_feb_2020.csv', parse_dates=['date'])\n",
    "\n",
    "data['hour'] = data['date'].dt.hour\n",
    "\n",
    "last_sunday = pd.to_datetime(\"2020-02-23\")\n",
    "train = data[data['date'] < last_sunday]\n",
    "val = data[data['date'] >= last_sunday]"
   ]
  },
  {
   "cell_type": "code",
   "execution_count": 3,
   "metadata": {},
   "outputs": [],
   "source": [
    "def prep_seqs(df, l=24, h=24):\n",
    "    X = []\n",
    "    Y = []\n",
    "    for i in range(l,df.shape[0]-h):\n",
    "        f = df.iloc[i-l:i][['sales_value', 'hour']] # hoje\n",
    "        y = df.iloc[i:i+h]['sales_value'] # 1 dia depois\n",
    "\n",
    "        X.append(f.values)\n",
    "        Y.append(y.values)\n",
    "\n",
    "    X = np.array(X)\n",
    "    Y = np.array(Y)\n",
    "\n",
    "    #X = np.expand_dims(X, -1)\n",
    "    X = np.swapaxes(X, 0,1)\n",
    "    \n",
    "    #Y = np.expand_dims(Y, -1)\n",
    "    #Y = np.swapaxes(Y, 0,2)\n",
    "    return torch.from_numpy(X).float(), torch.from_numpy(Y).float()"
   ]
  },
  {
   "cell_type": "code",
   "execution_count": 4,
   "metadata": {},
   "outputs": [],
   "source": [
    "X, Y = prep_seqs(train)\n",
    "Xt, Yt = prep_seqs(val)\n",
    "\n",
    "mean_train = X.mean(1, keepdims=True)\n",
    "mean_train[:, :, 1] = 0\n",
    "std_train = X.std(1,  unbiased=False, keepdims=True)\n",
    "std_train[:, :, 1] = 1\n",
    "\n",
    "meanY_train = Y.mean(0, keepdims=True)\n",
    "stdY_train = Y.std(0, unbiased=False, keepdims=True)\n",
    "\n",
    "X -= mean_train\n",
    "X /= std_train\n",
    "\n",
    "Xt -= mean_train\n",
    "Xt /= std_train\n",
    "\n",
    "\n",
    "Y -= meanY_train\n",
    "Y /= stdY_train\n",
    "\n",
    "\n",
    "X = X.cuda()\n",
    "Y = Y.cuda()\n",
    "\n",
    "# cuda = torch.device('cuda') \n",
    "#Y.to(cuda)"
   ]
  },
  {
   "cell_type": "code",
   "execution_count": 5,
   "metadata": {},
   "outputs": [],
   "source": [
    "class LSTMRNN(nn.Module):\n",
    "    \n",
    "    def __init__(self, hidden_size):\n",
    "        super(LSTMRNN, self).__init__()\n",
    "        self.hidden_size = hidden_size\n",
    "        self.hour_emb = nn.Embedding(24, 2)\n",
    "        self.lstm = nn.LSTM(3, self.hidden_size)\n",
    "        self.out = nn.Linear(self.hidden_size, 24)\n",
    "        \n",
    "    def forward(self, input, hidden=None):\n",
    "        hour_emb = self.hour_emb(input[:,:,-1].long().cuda())\n",
    "        nums = input[:,:,:-1].cuda()\n",
    "        inputs = torch.cat([nums, hour_emb], dim=2)\n",
    "        \n",
    "        output, _ = self.lstm(inputs)\n",
    "        output = output[-1, :, :]\n",
    "        \n",
    "        output = self.out(output)\n",
    "        return output.squeeze()"
   ]
  },
  {
   "cell_type": "code",
   "execution_count": 6,
   "metadata": {},
   "outputs": [
    {
     "name": "stdout",
     "output_type": "stream",
     "text": [
      "Seed = 0 - Erro: 345.7042541503906\n",
      "Seed = 1 - Erro: 342.533203125\n",
      "Seed = 2 - Erro: 354.215087890625\n",
      "Seed = 3 - Erro: 347.9766540527344\n",
      "Seed = 4 - Erro: 352.1267395019531\n",
      "Seed = 5 - Erro: 346.0849914550781\n",
      "Seed = 6 - Erro: 355.3306579589844\n",
      "Seed = 7 - Erro: 340.03515625\n",
      "Seed = 8 - Erro: 354.319091796875\n",
      "Seed = 9 - Erro: 348.231201171875\n",
      "\n",
      "Ensemble Avg Score = 342.096002009158\n",
      "\n"
     ]
    }
   ],
   "source": [
    "total_p = np.zeros((Yt.shape[0], Yt.shape[1], 10))\n",
    "\n",
    "for seed in range(10):\n",
    "    torch.manual_seed(seed)\n",
    "    np.random.seed(seed)\n",
    "\n",
    "    lstm = LSTMRNN(100).cuda()\n",
    "    criterion = nn.L1Loss()\n",
    "    lstm_optimizer = optim.Adam(lstm.parameters(), lr=1e-2)\n",
    "\n",
    "    for i in range(100):\n",
    "        lstm.zero_grad()\n",
    "\n",
    "        o = lstm(X)\n",
    "        loss = criterion(o, Y)\n",
    "        loss.backward()\n",
    "        lstm_optimizer.step()\n",
    "        #print(loss.item())\n",
    "\n",
    "        p = lstm(Xt)\n",
    "        p = p.detach().cpu()\n",
    "\n",
    "        p *= stdY_train\n",
    "        p += meanY_train\n",
    "        p = p.numpy().squeeze()\n",
    "\n",
    "\n",
    "    print(\"Seed = {} - Erro: {}\".format(seed, mean_absolute_error(Yt.numpy(), p)))\n",
    "    total_p[:, :, seed] = p\n",
    "    \n",
    "print(\"\\nEnsemble Avg Score = {}\\n\".format(mean_absolute_error(Yt.numpy(), total_p.mean(axis=-1))))\n",
    "\n",
    "#mesma seed na GPU dá resultados diferentes"
   ]
  },
  {
   "cell_type": "markdown",
   "metadata": {},
   "source": [
    "# Fim"
   ]
  }
 ],
 "metadata": {
  "kernelspec": {
   "display_name": "Python 3",
   "language": "python",
   "name": "python3"
  },
  "language_info": {
   "codemirror_mode": {
    "name": "ipython",
    "version": 3
   },
   "file_extension": ".py",
   "mimetype": "text/x-python",
   "name": "python",
   "nbconvert_exporter": "python",
   "pygments_lexer": "ipython3",
   "version": "3.8.5"
  }
 },
 "nbformat": 4,
 "nbformat_minor": 4
}
