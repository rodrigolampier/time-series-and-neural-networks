{
 "cells": [
  {
   "cell_type": "markdown",
   "metadata": {},
   "source": [
    "# 02 - Redes Neurais Recorrentes - LSTM"
   ]
  },
  {
   "cell_type": "code",
   "execution_count": 2,
   "metadata": {},
   "outputs": [],
   "source": [
    "import pandas as pd\n",
    "import numpy as np\n",
    "%matplotlib inline\n",
    "\n",
    "import torch\n",
    "import torch.nn as nn\n",
    "from torch import optim\n",
    "import torch.nn.functional as F"
   ]
  },
  {
   "cell_type": "code",
   "execution_count": 3,
   "metadata": {},
   "outputs": [
    {
     "data": {
      "text/html": [
       "<div>\n",
       "<style scoped>\n",
       "    .dataframe tbody tr th:only-of-type {\n",
       "        vertical-align: middle;\n",
       "    }\n",
       "\n",
       "    .dataframe tbody tr th {\n",
       "        vertical-align: top;\n",
       "    }\n",
       "\n",
       "    .dataframe thead th {\n",
       "        text-align: right;\n",
       "    }\n",
       "</style>\n",
       "<table border=\"1\" class=\"dataframe\">\n",
       "  <thead>\n",
       "    <tr style=\"text-align: right;\">\n",
       "      <th></th>\n",
       "      <th>date</th>\n",
       "      <th>sales_value</th>\n",
       "      <th>hour</th>\n",
       "    </tr>\n",
       "  </thead>\n",
       "  <tbody>\n",
       "    <tr>\n",
       "      <th>0</th>\n",
       "      <td>2020-02-01 00:00:00</td>\n",
       "      <td>28.60</td>\n",
       "      <td>0</td>\n",
       "    </tr>\n",
       "    <tr>\n",
       "      <th>1</th>\n",
       "      <td>2020-02-01 01:00:00</td>\n",
       "      <td>122.84</td>\n",
       "      <td>1</td>\n",
       "    </tr>\n",
       "    <tr>\n",
       "      <th>2</th>\n",
       "      <td>2020-02-01 02:00:00</td>\n",
       "      <td>112.87</td>\n",
       "      <td>2</td>\n",
       "    </tr>\n",
       "    <tr>\n",
       "      <th>3</th>\n",
       "      <td>2020-02-01 03:00:00</td>\n",
       "      <td>357.20</td>\n",
       "      <td>3</td>\n",
       "    </tr>\n",
       "    <tr>\n",
       "      <th>4</th>\n",
       "      <td>2020-02-01 04:00:00</td>\n",
       "      <td>642.56</td>\n",
       "      <td>4</td>\n",
       "    </tr>\n",
       "  </tbody>\n",
       "</table>\n",
       "</div>"
      ],
      "text/plain": [
       "                 date  sales_value  hour\n",
       "0 2020-02-01 00:00:00        28.60     0\n",
       "1 2020-02-01 01:00:00       122.84     1\n",
       "2 2020-02-01 02:00:00       112.87     2\n",
       "3 2020-02-01 03:00:00       357.20     3\n",
       "4 2020-02-01 04:00:00       642.56     4"
      ]
     },
     "execution_count": 3,
     "metadata": {},
     "output_type": "execute_result"
    }
   ],
   "source": [
    "data = pd.read_csv('data-processed/ts_hr_feb_2020.csv', parse_dates=['date'])\n",
    "\n",
    "data['hour'] = data['date'].dt.hour\n",
    "\n",
    "last_sunday = pd.to_datetime(\"2020-02-23\")\n",
    "train = data[data['date'] < last_sunday]\n",
    "val = data[data['date'] >= last_sunday]\n",
    "\n",
    "data.head()"
   ]
  },
  {
   "cell_type": "code",
   "execution_count": 4,
   "metadata": {},
   "outputs": [],
   "source": [
    "def prep_seqs(df, l=24, h=24):\n",
    "    X = []\n",
    "    Y = []\n",
    "    for i in range(l,df.shape[0]-h):\n",
    "        f = df.iloc[i-l:i]['sales_value'].values # ultimas 24h\n",
    "        y = df.iloc[i:i+h]['sales_value'].values # proximas 24h\n",
    "\n",
    "        X.append(f)\n",
    "        Y.append(y)\n",
    "\n",
    "    X = np.array(X)\n",
    "    Y = np.array(Y)\n",
    "\n",
    "    X = np.expand_dims(X, -1)\n",
    "    X = np.swapaxes(X, 0, 1) # Troca a dimensão zero para a dimensão um (exigencia do pytorch)\n",
    "    \n",
    "    return torch.from_numpy(X).float(), torch.from_numpy(Y).float()"
   ]
  },
  {
   "cell_type": "code",
   "execution_count": 5,
   "metadata": {},
   "outputs": [],
   "source": [
    "X, Y = prep_seqs(train)\n",
    "Xt, Yt = prep_seqs(val)"
   ]
  },
  {
   "cell_type": "code",
   "execution_count": 6,
   "metadata": {},
   "outputs": [],
   "source": [
    "mean_train = X.mean(1, keepdims=True)\n",
    "std_train = X.std(1,  unbiased=False, keepdims=True)\n",
    "\n",
    "meanY_train = Y.mean(0, keepdims=True)\n",
    "stdY_train = Y.std(0, unbiased=False, keepdims=True)\n",
    "\n",
    "X -= mean_train\n",
    "X /= std_train\n",
    "\n",
    "Xt -= mean_train\n",
    "Xt /= std_train\n",
    "\n",
    "Y -= meanY_train\n",
    "Y /= stdY_train"
   ]
  },
  {
   "cell_type": "code",
   "execution_count": 7,
   "metadata": {},
   "outputs": [],
   "source": [
    "class LSTMRNN(nn.Module):\n",
    "    def __init__(self, hidden_size):\n",
    "        super(LSTMRNN, self).__init__()\n",
    "        self.hidden_size = hidden_size\n",
    "        self.lstm = nn.LSTM(1, self.hidden_size)\n",
    "        self.out = nn.Linear(self.hidden_size, 24)\n",
    "        \n",
    "    def forward(self, input):\n",
    "        #print(\"Input: \", input.shape)\n",
    "        output, h = self.lstm(input)\n",
    "        #print(\"Output (hidden) da LSTM: \", output.shape)\n",
    "        output = output[-1, :, :]\n",
    "        #print(\"Output (hidden state) do ultimo passo: \",output.shape)\n",
    "        #print(torch.allclose(output, h[0]))\n",
    "        #assert torch.allclose(output, h[0])\n",
    "        \n",
    "        output = self.out(output)\n",
    "        #print(\"Output da RNN: \", output.shape)\n",
    "        return output.squeeze()"
   ]
  },
  {
   "cell_type": "code",
   "execution_count": 8,
   "metadata": {},
   "outputs": [
    {
     "name": "stdout",
     "output_type": "stream",
     "text": [
      "LSTMRNN(\n",
      "  (lstm): LSTM(1, 100)\n",
      "  (out): Linear(in_features=100, out_features=24, bias=True)\n",
      ")\n"
     ]
    }
   ],
   "source": [
    "seed = 0\n",
    "torch.manual_seed(seed)\n",
    "np.random.seed(seed)\n",
    "\n",
    "lstm = LSTMRNN(100)\n",
    "print(lstm)"
   ]
  },
  {
   "cell_type": "code",
   "execution_count": 9,
   "metadata": {},
   "outputs": [],
   "source": [
    "from sklearn.metrics import mean_absolute_error\n",
    "\n",
    "criterion = nn.L1Loss()\n",
    "lstm_optimizer = optim.Adam(lstm.parameters(), lr=1e-2)"
   ]
  },
  {
   "cell_type": "code",
   "execution_count": 12,
   "metadata": {},
   "outputs": [
    {
     "name": "stdout",
     "output_type": "stream",
     "text": [
      "Erro 389.73996\n"
     ]
    }
   ],
   "source": [
    "for i in range(100):\n",
    "    lstm.zero_grad()\n",
    "\n",
    "    o = lstm(X)\n",
    "    loss = criterion(o, Y)\n",
    "    loss.backward()\n",
    "    lstm_optimizer.step()\n",
    "    #print(loss.item())\n",
    "    \n",
    "    p = lstm(Xt)\n",
    "    p = p.detach()\n",
    "    \n",
    "    p *= stdY_train\n",
    "    p += meanY_train\n",
    "    p = p.numpy().squeeze()\n",
    "    #break\n",
    "    \n",
    "\n",
    "print(\"Erro\", mean_absolute_error(Yt.numpy(), p))"
   ]
  },
  {
   "cell_type": "markdown",
   "metadata": {},
   "source": [
    "## Adição da Variável Tempo em Forma Bruta"
   ]
  },
  {
   "cell_type": "code",
   "execution_count": 13,
   "metadata": {},
   "outputs": [],
   "source": [
    "def prep_seqs(df, l=24, h=24):\n",
    "    X = []\n",
    "    Y = []\n",
    "    for i in range(l,df.shape[0]-h):\n",
    "        f = df.iloc[i-l:i][['sales_value', 'hour']] #hoje\n",
    "        y = df.iloc[i:i+h]['sales_value'] # 1 dia depois\n",
    "\n",
    "        X.append(f.values)\n",
    "        Y.append(y.values)\n",
    "\n",
    "    X = np.array(X)\n",
    "    Y = np.array(Y)\n",
    "\n",
    "    #X = np.expand_dims(X, -1)\n",
    "    X = np.swapaxes(X, 0,1)\n",
    "    \n",
    "\n",
    "    return torch.from_numpy(X).float(), torch.from_numpy(Y).float()"
   ]
  },
  {
   "cell_type": "code",
   "execution_count": 14,
   "metadata": {},
   "outputs": [],
   "source": [
    "X, Y = prep_seqs(train)\n",
    "Xt, Yt = prep_seqs(val)\n",
    "\n",
    "mean_train = X.mean(1, keepdims=True)\n",
    "mean_train[:, :, 1] = 0\n",
    "std_train = X.std(1,  unbiased=False, keepdims=True)\n",
    "std_train[:, :, 1] = 1\n",
    "\n",
    "meanY_train = Y.mean(0, keepdims=True)\n",
    "stdY_train = Y.std(0, unbiased=False, keepdims=True)\n",
    "\n",
    "X -= mean_train\n",
    "X /= std_train\n",
    "\n",
    "Xt -= mean_train\n",
    "Xt /= std_train\n",
    "\n",
    "\n",
    "Y -= meanY_train\n",
    "Y /= stdY_train"
   ]
  },
  {
   "cell_type": "code",
   "execution_count": 15,
   "metadata": {},
   "outputs": [],
   "source": [
    "class LSTMRNN(nn.Module):\n",
    "    def __init__(self, hidden_size):\n",
    "        super(LSTMRNN, self).__init__()\n",
    "        self.hidden_size = hidden_size\n",
    "        self.hour_emb = nn.Embedding(24, 4)\n",
    "        self.lstm = nn.LSTM(5, self.hidden_size)\n",
    "        self.out = nn.Linear(self.hidden_size, 24)\n",
    "        \n",
    "    def forward(self, input, hidden=None):\n",
    "        \n",
    "        hour_emb = self.hour_emb(input[:,:,-1].long())\n",
    "        #print(\"Emb\", hour_emb.shape)\n",
    "        nums = input[:,:,:-1]\n",
    "        #print(\"Nums\", nums.shape)\n",
    "        \n",
    "        inputs = torch.cat([nums, hour_emb], dim=2)\n",
    "        #print(\"Inputs\", inputs.shape)\n",
    "\n",
    "        output, _ = self.lstm(inputs)\n",
    "        output = output[-1, :, :]\n",
    "        \n",
    "        output = self.out(output)\n",
    "        return output.squeeze()"
   ]
  },
  {
   "cell_type": "code",
   "execution_count": 16,
   "metadata": {},
   "outputs": [
    {
     "name": "stdout",
     "output_type": "stream",
     "text": [
      "LSTMRNN(\n",
      "  (hour_emb): Embedding(24, 4)\n",
      "  (lstm): LSTM(5, 100)\n",
      "  (out): Linear(in_features=100, out_features=24, bias=True)\n",
      ")\n"
     ]
    }
   ],
   "source": [
    "seed = 0\n",
    "torch.manual_seed(seed)\n",
    "np.random.seed(seed)\n",
    "\n",
    "lstm = LSTMRNN(100)\n",
    "print(lstm)"
   ]
  },
  {
   "cell_type": "code",
   "execution_count": 17,
   "metadata": {},
   "outputs": [],
   "source": [
    "from sklearn.metrics import mean_absolute_error\n",
    "\n",
    "criterion = nn.L1Loss()\n",
    "lstm_optimizer = optim.Adam(lstm.parameters(), lr=1e-2)"
   ]
  },
  {
   "cell_type": "code",
   "execution_count": 18,
   "metadata": {},
   "outputs": [
    {
     "name": "stdout",
     "output_type": "stream",
     "text": [
      "345.99194\n"
     ]
    }
   ],
   "source": [
    "for i in range(100):\n",
    "    lstm.zero_grad()\n",
    "\n",
    "    o = lstm(X)\n",
    "    loss = criterion(o, Y)\n",
    "    loss.backward()\n",
    "    lstm_optimizer.step()\n",
    "    #print(loss.item())\n",
    "    \n",
    "\n",
    "    p = lstm(Xt)\n",
    "    p = p.detach()\n",
    "    \n",
    "    p *= stdY_train\n",
    "    p += meanY_train\n",
    "    p = p.numpy().squeeze()\n",
    "    \n",
    "    \n",
    "print(mean_absolute_error(Yt.numpy(), p))"
   ]
  },
  {
   "cell_type": "markdown",
   "metadata": {},
   "source": [
    "## Adição da Variável Tempo em Forma de Cosseno"
   ]
  },
  {
   "cell_type": "markdown",
   "metadata": {},
   "source": [
    "Aplica a função cosseno na hora para permitir que 23:00 seja próximo a 00:00. A função consseno vai permitir essa aproximação de valores."
   ]
  },
  {
   "cell_type": "code",
   "execution_count": 19,
   "metadata": {},
   "outputs": [],
   "source": [
    "def prep_seqs(df, l=24, h=24):\n",
    "    X = []\n",
    "    Y = []\n",
    "    for i in range(l,df.shape[0]-h):\n",
    "        f = df.iloc[i-l:i][['sales_value', 'hour']] #hoje\n",
    "        y = df.iloc[i:i+h]['sales_value'] # 1 dia depois\n",
    "        \n",
    "        # Função cosseno sobre a hora\n",
    "        f['sin_time'] = np.sin(2*np.pi*f['hour']/24)\n",
    "        f['cos_time'] = np.cos(2*np.pi*f['hour']/24)\n",
    "    \n",
    "        f = f.drop('hour', axis=1)\n",
    "\n",
    "        X.append(f.values)\n",
    "        Y.append(y.values)\n",
    "\n",
    "    X = np.array(X)\n",
    "    Y = np.array(Y)\n",
    "\n",
    "    #X = np.expand_dims(X, -1)\n",
    "    X = np.swapaxes(X, 0,1)\n",
    "    \n",
    "    #Y = np.expand_dims(Y, -1)\n",
    "    #Y = np.swapaxes(Y, 0,2)\n",
    "    return torch.from_numpy(X).float(), torch.from_numpy(Y).float()"
   ]
  },
  {
   "cell_type": "code",
   "execution_count": 20,
   "metadata": {},
   "outputs": [],
   "source": [
    "X, Y = prep_seqs(train)\n",
    "Xt, Yt = prep_seqs(val)\n",
    "\n",
    "mean_train = X.mean(1, keepdims=True)\n",
    "std_train = X.std(1,  unbiased=False, keepdims=True)\n",
    "\n",
    "meanY_train = Y.mean(0, keepdims=True)\n",
    "stdY_train = Y.std(0, unbiased=False, keepdims=True)\n",
    "\n",
    "X -= mean_train\n",
    "X /= std_train\n",
    "\n",
    "Xt -= mean_train\n",
    "Xt /= std_train\n",
    "\n",
    "Y -= meanY_train\n",
    "Y /= stdY_train"
   ]
  },
  {
   "cell_type": "code",
   "execution_count": 21,
   "metadata": {},
   "outputs": [],
   "source": [
    "class LSTMRNN(nn.Module):\n",
    "    def __init__(self, hidden_size):\n",
    "        super(LSTMRNN, self).__init__()\n",
    "        self.hidden_size = hidden_size\n",
    "        self.lstm = nn.LSTM(3, self.hidden_size)\n",
    "        self.out = nn.Linear(self.hidden_size, 24)\n",
    "        \n",
    "    def forward(self, input):\n",
    "        #print(\"Input: \", input.shape)\n",
    "        output, h = self.lstm(input)\n",
    "        #print(\"Output (hidden) da LSTM: \", output.shape)\n",
    "        output = output[-1, :, :]\n",
    "        #print(\"Output (hidden state) do ultimo passo: \",output.shape)\n",
    "        #print(torch.allclose(output, h[0]))\n",
    "        #assert torch.allclose(output, h[0])\n",
    "        \n",
    "        output = self.out(output)\n",
    "        #print(\"Output da RNN: \", output.shape)\n",
    "        return output.squeeze()"
   ]
  },
  {
   "cell_type": "code",
   "execution_count": 22,
   "metadata": {},
   "outputs": [
    {
     "name": "stdout",
     "output_type": "stream",
     "text": [
      "LSTMRNN(\n",
      "  (lstm): LSTM(3, 100)\n",
      "  (out): Linear(in_features=100, out_features=24, bias=True)\n",
      ")\n"
     ]
    }
   ],
   "source": [
    "seed = 0\n",
    "torch.manual_seed(seed)\n",
    "np.random.seed(seed)\n",
    "\n",
    "lstm = LSTMRNN(100)\n",
    "print(lstm)"
   ]
  },
  {
   "cell_type": "code",
   "execution_count": 23,
   "metadata": {},
   "outputs": [],
   "source": [
    "from sklearn.metrics import mean_absolute_error\n",
    "\n",
    "criterion = nn.L1Loss()\n",
    "lstm_optimizer = optim.Adam(lstm.parameters(), lr=1e-2)"
   ]
  },
  {
   "cell_type": "code",
   "execution_count": 24,
   "metadata": {},
   "outputs": [
    {
     "name": "stdout",
     "output_type": "stream",
     "text": [
      "338.28958\n"
     ]
    }
   ],
   "source": [
    "for i in range(100):\n",
    "    lstm.zero_grad()\n",
    "\n",
    "    o = lstm(X)\n",
    "    loss = criterion(o, Y)\n",
    "    loss.backward()\n",
    "    lstm_optimizer.step()\n",
    "    #print(loss.item())\n",
    "    \n",
    "    p = lstm(Xt)\n",
    "    p = p.detach()\n",
    "    \n",
    "    p *= stdY_train\n",
    "    p += meanY_train\n",
    "    p = p.numpy().squeeze()\n",
    "    \n",
    "    \n",
    "print(mean_absolute_error(Yt.numpy(), p))"
   ]
  },
  {
   "cell_type": "markdown",
   "metadata": {},
   "source": [
    "# Fim"
   ]
  }
 ],
 "metadata": {
  "kernelspec": {
   "display_name": "Python 3",
   "language": "python",
   "name": "python3"
  },
  "language_info": {
   "codemirror_mode": {
    "name": "ipython",
    "version": 3
   },
   "file_extension": ".py",
   "mimetype": "text/x-python",
   "name": "python",
   "nbconvert_exporter": "python",
   "pygments_lexer": "ipython3",
   "version": "3.8.5"
  }
 },
 "nbformat": 4,
 "nbformat_minor": 4
}
